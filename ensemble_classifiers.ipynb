{
 "cells": [
  {
   "cell_type": "code",
   "execution_count": 1,
   "id": "d255797f-6288-432c-b54f-1d121d976b25",
   "metadata": {},
   "outputs": [],
   "source": [
    "import pandas as pd\n",
    "import numpy as np\n",
    "import matplotlib.pyplot as plt\n",
    "import seaborn as sns"
   ]
  },
  {
   "cell_type": "code",
   "execution_count": 2,
   "id": "9ff54ce3-723c-44b4-899d-9affdc079d2a",
   "metadata": {},
   "outputs": [],
   "source": [
    "df1 = pd.read_csv( '/Users/anshumantewary/Downloads/IPBA/Python/ML Models - Machine Learning Techniquies/T2. Random Forest and Gradient Boosted Machines - Snippets/Data/HR_comma_sep.csv'   )"
   ]
  },
  {
   "cell_type": "code",
   "execution_count": 3,
   "id": "d3ee20bb-0822-48e3-a619-65c7ad8ddd64",
   "metadata": {},
   "outputs": [
    {
     "data": {
      "text/html": [
       "<div>\n",
       "<style scoped>\n",
       "    .dataframe tbody tr th:only-of-type {\n",
       "        vertical-align: middle;\n",
       "    }\n",
       "\n",
       "    .dataframe tbody tr th {\n",
       "        vertical-align: top;\n",
       "    }\n",
       "\n",
       "    .dataframe thead th {\n",
       "        text-align: right;\n",
       "    }\n",
       "</style>\n",
       "<table border=\"1\" class=\"dataframe\">\n",
       "  <thead>\n",
       "    <tr style=\"text-align: right;\">\n",
       "      <th></th>\n",
       "      <th>satisfaction_level</th>\n",
       "      <th>last_evaluation</th>\n",
       "      <th>number_project</th>\n",
       "      <th>average_montly_hours</th>\n",
       "      <th>time_spend_company</th>\n",
       "      <th>Work_accident</th>\n",
       "      <th>left</th>\n",
       "      <th>promotion_last_5years</th>\n",
       "      <th>sales</th>\n",
       "      <th>salary</th>\n",
       "    </tr>\n",
       "  </thead>\n",
       "  <tbody>\n",
       "    <tr>\n",
       "      <th>0</th>\n",
       "      <td>0.38</td>\n",
       "      <td>0.53</td>\n",
       "      <td>2</td>\n",
       "      <td>157</td>\n",
       "      <td>3</td>\n",
       "      <td>0</td>\n",
       "      <td>1</td>\n",
       "      <td>0</td>\n",
       "      <td>sales</td>\n",
       "      <td>low</td>\n",
       "    </tr>\n",
       "    <tr>\n",
       "      <th>1</th>\n",
       "      <td>0.80</td>\n",
       "      <td>0.86</td>\n",
       "      <td>5</td>\n",
       "      <td>262</td>\n",
       "      <td>6</td>\n",
       "      <td>0</td>\n",
       "      <td>1</td>\n",
       "      <td>0</td>\n",
       "      <td>sales</td>\n",
       "      <td>medium</td>\n",
       "    </tr>\n",
       "    <tr>\n",
       "      <th>2</th>\n",
       "      <td>0.11</td>\n",
       "      <td>0.88</td>\n",
       "      <td>7</td>\n",
       "      <td>272</td>\n",
       "      <td>4</td>\n",
       "      <td>0</td>\n",
       "      <td>1</td>\n",
       "      <td>0</td>\n",
       "      <td>sales</td>\n",
       "      <td>medium</td>\n",
       "    </tr>\n",
       "    <tr>\n",
       "      <th>3</th>\n",
       "      <td>0.72</td>\n",
       "      <td>0.87</td>\n",
       "      <td>5</td>\n",
       "      <td>223</td>\n",
       "      <td>5</td>\n",
       "      <td>0</td>\n",
       "      <td>1</td>\n",
       "      <td>0</td>\n",
       "      <td>sales</td>\n",
       "      <td>low</td>\n",
       "    </tr>\n",
       "    <tr>\n",
       "      <th>4</th>\n",
       "      <td>0.37</td>\n",
       "      <td>0.52</td>\n",
       "      <td>2</td>\n",
       "      <td>159</td>\n",
       "      <td>3</td>\n",
       "      <td>0</td>\n",
       "      <td>1</td>\n",
       "      <td>0</td>\n",
       "      <td>sales</td>\n",
       "      <td>low</td>\n",
       "    </tr>\n",
       "  </tbody>\n",
       "</table>\n",
       "</div>"
      ],
      "text/plain": [
       "   satisfaction_level  last_evaluation  number_project  average_montly_hours  \\\n",
       "0                0.38             0.53               2                   157   \n",
       "1                0.80             0.86               5                   262   \n",
       "2                0.11             0.88               7                   272   \n",
       "3                0.72             0.87               5                   223   \n",
       "4                0.37             0.52               2                   159   \n",
       "\n",
       "   time_spend_company  Work_accident  left  promotion_last_5years  sales  \\\n",
       "0                   3              0     1                      0  sales   \n",
       "1                   6              0     1                      0  sales   \n",
       "2                   4              0     1                      0  sales   \n",
       "3                   5              0     1                      0  sales   \n",
       "4                   3              0     1                      0  sales   \n",
       "\n",
       "   salary  \n",
       "0     low  \n",
       "1  medium  \n",
       "2  medium  \n",
       "3     low  \n",
       "4     low  "
      ]
     },
     "execution_count": 3,
     "metadata": {},
     "output_type": "execute_result"
    }
   ],
   "source": [
    "df1.head()"
   ]
  },
  {
   "cell_type": "code",
   "execution_count": 4,
   "id": "2cc1e7d8-1795-455e-a536-b695ba86f543",
   "metadata": {},
   "outputs": [
    {
     "data": {
      "text/plain": [
       "satisfaction_level       0\n",
       "last_evaluation          0\n",
       "number_project           0\n",
       "average_montly_hours     0\n",
       "time_spend_company       0\n",
       "Work_accident            0\n",
       "left                     0\n",
       "promotion_last_5years    0\n",
       "sales                    0\n",
       "salary                   0\n",
       "dtype: int64"
      ]
     },
     "execution_count": 4,
     "metadata": {},
     "output_type": "execute_result"
    }
   ],
   "source": [
    "df1.isnull().sum()"
   ]
  },
  {
   "cell_type": "code",
   "execution_count": 6,
   "id": "1c8a6aeb-db5e-424d-bee0-4dbb58d5b338",
   "metadata": {},
   "outputs": [
    {
     "data": {
      "text/plain": [
       "array(['sales', 'accounting', 'hr', 'technical', 'support', 'management',\n",
       "       'IT', 'product_mng', 'marketing', 'RandD'], dtype=object)"
      ]
     },
     "execution_count": 6,
     "metadata": {},
     "output_type": "execute_result"
    }
   ],
   "source": [
    "#Lets look at the categorical variables\n",
    "\n",
    "df1['sales'].unique()  #Looks like the column is renamed wrongly"
   ]
  },
  {
   "cell_type": "code",
   "execution_count": 9,
   "id": "77c48abd-c93a-44b2-9e0b-30e89cfd46b4",
   "metadata": {},
   "outputs": [],
   "source": [
    "df1.rename(columns = {'sales':'dept'}, inplace = True)\n",
    "\n",
    "#df1.head()"
   ]
  },
  {
   "cell_type": "code",
   "execution_count": 12,
   "id": "5286d165-c267-430d-add3-e34fe9a7e22f",
   "metadata": {},
   "outputs": [
    {
     "data": {
      "text/plain": [
       "['low', 'medium', 'high']"
      ]
     },
     "execution_count": 12,
     "metadata": {},
     "output_type": "execute_result"
    }
   ],
   "source": [
    "df1['salary'].unique().tolist()"
   ]
  },
  {
   "cell_type": "code",
   "execution_count": 14,
   "id": "b56e5f7f-536d-4d2c-bc76-e6c781cd5410",
   "metadata": {},
   "outputs": [],
   "source": [
    "X = df1.drop('left', axis = 1)\n",
    "\n",
    "y = df1['left']"
   ]
  },
  {
   "cell_type": "code",
   "execution_count": 16,
   "id": "2f53ab0e-926e-424e-b9b2-b94fdba8ec57",
   "metadata": {},
   "outputs": [],
   "source": [
    "#X.head()"
   ]
  },
  {
   "cell_type": "code",
   "execution_count": 71,
   "id": "55e7bc27-1cb8-426c-b5b8-95b5efbe0ddc",
   "metadata": {},
   "outputs": [
    {
     "data": {
      "text/html": [
       "<div>\n",
       "<style scoped>\n",
       "    .dataframe tbody tr th:only-of-type {\n",
       "        vertical-align: middle;\n",
       "    }\n",
       "\n",
       "    .dataframe tbody tr th {\n",
       "        vertical-align: top;\n",
       "    }\n",
       "\n",
       "    .dataframe thead th {\n",
       "        text-align: right;\n",
       "    }\n",
       "</style>\n",
       "<table border=\"1\" class=\"dataframe\">\n",
       "  <thead>\n",
       "    <tr style=\"text-align: right;\">\n",
       "      <th></th>\n",
       "      <th>satisfaction_level</th>\n",
       "      <th>last_evaluation</th>\n",
       "      <th>number_project</th>\n",
       "      <th>average_montly_hours</th>\n",
       "      <th>time_spend_company</th>\n",
       "      <th>Work_accident</th>\n",
       "      <th>promotion_last_5years</th>\n",
       "      <th>dept_IT</th>\n",
       "      <th>dept_RandD</th>\n",
       "      <th>dept_accounting</th>\n",
       "      <th>dept_hr</th>\n",
       "      <th>dept_management</th>\n",
       "      <th>dept_marketing</th>\n",
       "      <th>dept_product_mng</th>\n",
       "      <th>dept_sales</th>\n",
       "      <th>dept_support</th>\n",
       "      <th>dept_technical</th>\n",
       "      <th>salary_high</th>\n",
       "      <th>salary_low</th>\n",
       "      <th>salary_medium</th>\n",
       "    </tr>\n",
       "  </thead>\n",
       "  <tbody>\n",
       "    <tr>\n",
       "      <th>0</th>\n",
       "      <td>0.38</td>\n",
       "      <td>0.53</td>\n",
       "      <td>2</td>\n",
       "      <td>157</td>\n",
       "      <td>3</td>\n",
       "      <td>0</td>\n",
       "      <td>0</td>\n",
       "      <td>0</td>\n",
       "      <td>0</td>\n",
       "      <td>0</td>\n",
       "      <td>0</td>\n",
       "      <td>0</td>\n",
       "      <td>0</td>\n",
       "      <td>0</td>\n",
       "      <td>1</td>\n",
       "      <td>0</td>\n",
       "      <td>0</td>\n",
       "      <td>0</td>\n",
       "      <td>1</td>\n",
       "      <td>0</td>\n",
       "    </tr>\n",
       "    <tr>\n",
       "      <th>1</th>\n",
       "      <td>0.80</td>\n",
       "      <td>0.86</td>\n",
       "      <td>5</td>\n",
       "      <td>262</td>\n",
       "      <td>6</td>\n",
       "      <td>0</td>\n",
       "      <td>0</td>\n",
       "      <td>0</td>\n",
       "      <td>0</td>\n",
       "      <td>0</td>\n",
       "      <td>0</td>\n",
       "      <td>0</td>\n",
       "      <td>0</td>\n",
       "      <td>0</td>\n",
       "      <td>1</td>\n",
       "      <td>0</td>\n",
       "      <td>0</td>\n",
       "      <td>0</td>\n",
       "      <td>0</td>\n",
       "      <td>1</td>\n",
       "    </tr>\n",
       "    <tr>\n",
       "      <th>2</th>\n",
       "      <td>0.11</td>\n",
       "      <td>0.88</td>\n",
       "      <td>7</td>\n",
       "      <td>272</td>\n",
       "      <td>4</td>\n",
       "      <td>0</td>\n",
       "      <td>0</td>\n",
       "      <td>0</td>\n",
       "      <td>0</td>\n",
       "      <td>0</td>\n",
       "      <td>0</td>\n",
       "      <td>0</td>\n",
       "      <td>0</td>\n",
       "      <td>0</td>\n",
       "      <td>1</td>\n",
       "      <td>0</td>\n",
       "      <td>0</td>\n",
       "      <td>0</td>\n",
       "      <td>0</td>\n",
       "      <td>1</td>\n",
       "    </tr>\n",
       "    <tr>\n",
       "      <th>3</th>\n",
       "      <td>0.72</td>\n",
       "      <td>0.87</td>\n",
       "      <td>5</td>\n",
       "      <td>223</td>\n",
       "      <td>5</td>\n",
       "      <td>0</td>\n",
       "      <td>0</td>\n",
       "      <td>0</td>\n",
       "      <td>0</td>\n",
       "      <td>0</td>\n",
       "      <td>0</td>\n",
       "      <td>0</td>\n",
       "      <td>0</td>\n",
       "      <td>0</td>\n",
       "      <td>1</td>\n",
       "      <td>0</td>\n",
       "      <td>0</td>\n",
       "      <td>0</td>\n",
       "      <td>1</td>\n",
       "      <td>0</td>\n",
       "    </tr>\n",
       "    <tr>\n",
       "      <th>4</th>\n",
       "      <td>0.37</td>\n",
       "      <td>0.52</td>\n",
       "      <td>2</td>\n",
       "      <td>159</td>\n",
       "      <td>3</td>\n",
       "      <td>0</td>\n",
       "      <td>0</td>\n",
       "      <td>0</td>\n",
       "      <td>0</td>\n",
       "      <td>0</td>\n",
       "      <td>0</td>\n",
       "      <td>0</td>\n",
       "      <td>0</td>\n",
       "      <td>0</td>\n",
       "      <td>1</td>\n",
       "      <td>0</td>\n",
       "      <td>0</td>\n",
       "      <td>0</td>\n",
       "      <td>1</td>\n",
       "      <td>0</td>\n",
       "    </tr>\n",
       "  </tbody>\n",
       "</table>\n",
       "</div>"
      ],
      "text/plain": [
       "   satisfaction_level  last_evaluation  number_project  average_montly_hours  \\\n",
       "0                0.38             0.53               2                   157   \n",
       "1                0.80             0.86               5                   262   \n",
       "2                0.11             0.88               7                   272   \n",
       "3                0.72             0.87               5                   223   \n",
       "4                0.37             0.52               2                   159   \n",
       "\n",
       "   time_spend_company  Work_accident  promotion_last_5years  dept_IT  \\\n",
       "0                   3              0                      0        0   \n",
       "1                   6              0                      0        0   \n",
       "2                   4              0                      0        0   \n",
       "3                   5              0                      0        0   \n",
       "4                   3              0                      0        0   \n",
       "\n",
       "   dept_RandD  dept_accounting  dept_hr  dept_management  dept_marketing  \\\n",
       "0           0                0        0                0               0   \n",
       "1           0                0        0                0               0   \n",
       "2           0                0        0                0               0   \n",
       "3           0                0        0                0               0   \n",
       "4           0                0        0                0               0   \n",
       "\n",
       "   dept_product_mng  dept_sales  dept_support  dept_technical  salary_high  \\\n",
       "0                 0           1             0               0            0   \n",
       "1                 0           1             0               0            0   \n",
       "2                 0           1             0               0            0   \n",
       "3                 0           1             0               0            0   \n",
       "4                 0           1             0               0            0   \n",
       "\n",
       "   salary_low  salary_medium  \n",
       "0           1              0  \n",
       "1           0              1  \n",
       "2           0              1  \n",
       "3           1              0  \n",
       "4           1              0  "
      ]
     },
     "execution_count": 71,
     "metadata": {},
     "output_type": "execute_result"
    }
   ],
   "source": [
    "#Lets now the categorical features\n",
    "\n",
    "X = pd.get_dummies(X) #One hot encoding\n",
    "X.head()"
   ]
  },
  {
   "cell_type": "code",
   "execution_count": 23,
   "id": "1fbfbcf6-0f4e-44a0-a6fe-807914e07b70",
   "metadata": {},
   "outputs": [],
   "source": [
    "from sklearn.model_selection import train_test_split\n",
    "\n",
    "x_train, x_test, y_train, y_test = train_test_split(X,y, test_size = 0.2, random_state = 200)"
   ]
  },
  {
   "cell_type": "code",
   "execution_count": 24,
   "id": "ebc28cab-37b6-4913-ad4a-eefbcf843a49",
   "metadata": {},
   "outputs": [],
   "source": [
    "from sklearn.ensemble import BaggingClassifier\n",
    "from sklearn. tree import DecisionTreeClassifier"
   ]
  },
  {
   "cell_type": "code",
   "execution_count": 27,
   "id": "405a7e19-5f67-4c39-b0f7-65e5e9f2bc37",
   "metadata": {},
   "outputs": [
    {
     "data": {
      "text/plain": [
       "BaggingClassifier(base_estimator=DecisionTreeClassifier(), n_estimators=20,\n",
       "                  n_jobs=-1, oob_score=True, random_state=200)"
      ]
     },
     "execution_count": 27,
     "metadata": {},
     "output_type": "execute_result"
    }
   ],
   "source": [
    "clf = BaggingClassifier(oob_score = True, n_jobs = -1, n_estimators = 20, random_state = 200, \n",
    "                       base_estimator = DecisionTreeClassifier()   )\n",
    "\n",
    "clf.fit(x_train, y_train)"
   ]
  },
  {
   "cell_type": "code",
   "execution_count": 30,
   "id": "8cf6f2f6-8b1f-49e5-87dd-d1e6b0d72132",
   "metadata": {},
   "outputs": [
    {
     "data": {
      "text/plain": [
       "0.9849154096174682"
      ]
     },
     "execution_count": 30,
     "metadata": {},
     "output_type": "execute_result"
    }
   ],
   "source": [
    "clf.oob_score_"
   ]
  },
  {
   "cell_type": "code",
   "execution_count": 31,
   "id": "1a53bb24-d0ea-4c2f-841b-acd8e54df8fe",
   "metadata": {},
   "outputs": [
    {
     "data": {
      "text/plain": [
       "0.9896666666666667"
      ]
     },
     "execution_count": 31,
     "metadata": {},
     "output_type": "execute_result"
    }
   ],
   "source": [
    "clf.score(x_test, y_test)"
   ]
  },
  {
   "cell_type": "code",
   "execution_count": 118,
   "id": "05e5dbc7-5ceb-47a3-9bfb-a77d98711446",
   "metadata": {},
   "outputs": [
    {
     "name": "stderr",
     "output_type": "stream",
     "text": [
      "/Users/anshumantewary/opt/anaconda3/lib/python3.8/site-packages/sklearn/ensemble/_bagging.py:640: UserWarning: Some inputs do not have OOB scores. This probably means too few estimators were used to compute any reliable oob estimates.\n",
      "  warn(\"Some inputs do not have OOB scores. \"\n",
      "/Users/anshumantewary/opt/anaconda3/lib/python3.8/site-packages/sklearn/ensemble/_bagging.py:644: RuntimeWarning: invalid value encountered in true_divide\n",
      "  oob_decision_function = (predictions /\n"
     ]
    },
    {
     "name": "stdout",
     "output_type": "stream",
     "text": [
      "estimators =10\n",
      "oob =0.9808317359779982\n",
      "*******************\n",
      "estimators =30\n",
      "oob =0.9864155346278857\n",
      "*******************\n",
      "estimators =50\n",
      "oob =0.9876656388032335\n",
      "*******************\n",
      "estimators =70\n",
      "oob =0.9879989999166597\n",
      "*******************\n",
      "estimators =90\n",
      "oob =0.9884990415867989\n",
      "*******************\n",
      "estimators =110\n",
      "oob =0.9885823818651555\n",
      "*******************\n",
      "estimators =130\n",
      "oob =0.9883323610300858\n",
      "*******************\n",
      "estimators =150\n",
      "oob =0.9887490624218684\n",
      "*******************\n",
      "estimators =170\n",
      "oob =0.9887490624218684\n",
      "*******************\n",
      "estimators =190\n",
      "oob =0.9889157429785815\n",
      "*******************\n",
      "estimators =210\n",
      "oob =0.9887490624218684\n",
      "*******************\n",
      "estimators =230\n",
      "oob =0.9885823818651555\n",
      "*******************\n",
      "estimators =250\n",
      "oob =0.988665722143512\n",
      "*******************\n",
      "estimators =270\n",
      "oob =0.988832402700225\n",
      "*******************\n",
      "estimators =290\n",
      "oob =0.9889157429785815\n",
      "*******************\n"
     ]
    }
   ],
   "source": [
    "#Lets now chnage the number of estimators or the number of trees we want on our bagging classifier\n",
    "\n",
    "for w in range(10, 300, 20):\n",
    "    clf = BaggingClassifier( oob_score = True, n_jobs = -1, n_estimators = w, random_state = 200, \n",
    "                       base_estimator = DecisionTreeClassifier()    )\n",
    "    clf.fit(x_train, y_train)\n",
    "    oob = clf.oob_score_ \n",
    "    print ('estimators =' + str(w))\n",
    "    print ('oob =' + str(oob))\n",
    "    print(\"*******************\")\n",
    "    "
   ]
  },
  {
   "cell_type": "code",
   "execution_count": 119,
   "id": "97d44084-bd03-4f5f-9875-60af593baace",
   "metadata": {},
   "outputs": [],
   "source": [
    "#For estimators, 150 seems to be appropriate.\n",
    "#now..."
   ]
  },
  {
   "cell_type": "code",
   "execution_count": 120,
   "id": "d3118fe1-bf50-45b5-9e4c-e408d387af36",
   "metadata": {},
   "outputs": [],
   "source": [
    "clf = BaggingClassifier(oob_score=True, n_estimators= 10, n_jobs = -1, random_state = 200, base_estimator = DecisionTreeClassifier() )"
   ]
  },
  {
   "cell_type": "code",
   "execution_count": 121,
   "id": "8f10cbe9-81f9-47ad-93c7-bab7be2d2174",
   "metadata": {},
   "outputs": [
    {
     "name": "stderr",
     "output_type": "stream",
     "text": [
      "/Users/anshumantewary/opt/anaconda3/lib/python3.8/site-packages/sklearn/ensemble/_bagging.py:640: UserWarning: Some inputs do not have OOB scores. This probably means too few estimators were used to compute any reliable oob estimates.\n",
      "  warn(\"Some inputs do not have OOB scores. \"\n",
      "/Users/anshumantewary/opt/anaconda3/lib/python3.8/site-packages/sklearn/ensemble/_bagging.py:644: RuntimeWarning: invalid value encountered in true_divide\n",
      "  oob_decision_function = (predictions /\n"
     ]
    },
    {
     "data": {
      "text/plain": [
       "0.9808317359779982"
      ]
     },
     "execution_count": 121,
     "metadata": {},
     "output_type": "execute_result"
    }
   ],
   "source": [
    "clf.fit(x_train, y_train)\n",
    "\n",
    "clf.oob_score_"
   ]
  },
  {
   "cell_type": "code",
   "execution_count": 122,
   "id": "aa5250a4-d2fc-4e4c-bd70-c650c2c83db4",
   "metadata": {},
   "outputs": [],
   "source": [
    "#clf.estimators_"
   ]
  },
  {
   "cell_type": "code",
   "execution_count": 123,
   "id": "35e49ff7-8e4a-48a7-9842-60870ff9084a",
   "metadata": {},
   "outputs": [
    {
     "data": {
      "text/plain": [
       "array([4.77625380e-01, 1.53267218e-01, 1.04945950e-01, 8.90732121e-02,\n",
       "       1.53664718e-01, 4.84414312e-04, 3.27826513e-04, 1.65702826e-03,\n",
       "       1.19518742e-03, 1.71166696e-03, 8.44145724e-04, 1.03360719e-03,\n",
       "       8.01196523e-04, 0.00000000e+00, 2.05503381e-03, 3.65934441e-03,\n",
       "       3.12720583e-03, 3.08928087e-04, 2.25826508e-03, 1.95967209e-03])"
      ]
     },
     "execution_count": 123,
     "metadata": {},
     "output_type": "execute_result"
    }
   ],
   "source": [
    "clf.estimators_[0].feature_importances_"
   ]
  },
  {
   "cell_type": "code",
   "execution_count": 124,
   "id": "9f5018fc-5f43-42dd-8e80-f68e731661dc",
   "metadata": {},
   "outputs": [
    {
     "data": {
      "text/plain": [
       "array([4.94348958e-01, 1.46960026e-01, 1.05924384e-01, 9.05877133e-02,\n",
       "       1.38153584e-01, 1.13190423e-03, 1.71744926e-04, 1.46782608e-03,\n",
       "       6.94939740e-04, 1.06461122e-03, 8.44623741e-04, 8.52130775e-04,\n",
       "       6.58492769e-04, 3.62047584e-04, 2.90294255e-03, 2.54129196e-03,\n",
       "       3.61617436e-03, 2.17038197e-03, 3.02712837e-03, 2.51909429e-03])"
      ]
     },
     "execution_count": 124,
     "metadata": {},
     "output_type": "execute_result"
    }
   ],
   "source": [
    "#We can extract feature importance from each tree and then take a mean for all trees\n",
    "\n",
    "imp = []\n",
    "\n",
    "for i in clf.estimators_:\n",
    "    imp.append(i.feature_importances_)\n",
    "imp = np.mean(imp, axis = 0)\n",
    "\n",
    "imp"
   ]
  },
  {
   "cell_type": "code",
   "execution_count": 125,
   "id": "658773c4-c466-400c-a13e-5f7a2d7216c6",
   "metadata": {},
   "outputs": [],
   "source": [
    "feature_importance = pd.Series(imp, index = X.columns.tolist())"
   ]
  },
  {
   "cell_type": "code",
   "execution_count": 126,
   "id": "184460e8-cb88-4e1b-8404-dbc77f967c78",
   "metadata": {},
   "outputs": [
    {
     "data": {
      "text/plain": [
       "satisfaction_level       0.494349\n",
       "last_evaluation          0.146960\n",
       "time_spend_company       0.138154\n",
       "number_project           0.105924\n",
       "average_montly_hours     0.090588\n",
       "dept_technical           0.003616\n",
       "salary_low               0.003027\n",
       "dept_sales               0.002903\n",
       "dept_support             0.002541\n",
       "salary_medium            0.002519\n",
       "salary_high              0.002170\n",
       "dept_IT                  0.001468\n",
       "Work_accident            0.001132\n",
       "dept_accounting          0.001065\n",
       "dept_management          0.000852\n",
       "dept_hr                  0.000845\n",
       "dept_RandD               0.000695\n",
       "dept_marketing           0.000658\n",
       "dept_product_mng         0.000362\n",
       "promotion_last_5years    0.000172\n",
       "dtype: float64"
      ]
     },
     "execution_count": 126,
     "metadata": {},
     "output_type": "execute_result"
    }
   ],
   "source": [
    "feature_importance.sort_values(ascending = False)"
   ]
  },
  {
   "cell_type": "code",
   "execution_count": 127,
   "id": "b04abb88-462c-4a15-8c96-8d1bbee22cc1",
   "metadata": {},
   "outputs": [
    {
     "data": {
      "text/plain": [
       "<AxesSubplot:>"
      ]
     },
     "execution_count": 127,
     "metadata": {},
     "output_type": "execute_result"
    },
    {
     "data": {
      "image/png": "[encoded data removed]",
      "text/plain": [
       "<Figure size 720x360 with 1 Axes>"
      ]
     },
     "metadata": {},
     "output_type": "display_data"
    }
   ],
   "source": [
    "#Plotting the feature importance in a bar chart\n",
    "plt.figure(figsize = (10,5))\n",
    "plt.style.use('ggplot')\n",
    "feature_importance.sort_values(ascending = False).plot(kind = 'bar', color = 'red' )"
   ]
  },
  {
   "cell_type": "code",
   "execution_count": 128,
   "id": "7def4331-3b51-46a8-a326-2a680a2154e3",
   "metadata": {},
   "outputs": [
    {
     "data": {
      "image/png": "[encoded data removed]",
      "text/plain": [
       "<Figure size 576x576 with 1 Axes>"
      ]
     },
     "metadata": {},
     "output_type": "display_data"
    }
   ],
   "source": [
    "plt.figure(figsize = (8,8))\n",
    "feature_importance.sort_values(ascending = False).plot(kind = 'barh')\n",
    "plt.title(\"Contribution of various features towards an employee's tenure in an organization\")\n",
    "plt.xlabel(\"Overall score X 100%\")\n",
    "plt.ylabel(\"Features\")\n",
    "plt.show()\n"
   ]
  },
  {
   "cell_type": "code",
   "execution_count": 129,
   "id": "2689b1a8-28ba-4a8b-8570-cf047c7c2128",
   "metadata": {},
   "outputs": [],
   "source": [
    "#Now, let us classify the same model using Random Forest classifier ̑\n",
    "\n",
    "from sklearn.ensemble import RandomForestClassifier"
   ]
  },
  {
   "cell_type": "code",
   "execution_count": 130,
   "id": "904913e0-9624-418b-98c6-ac4a3f7c9b4a",
   "metadata": {},
   "outputs": [],
   "source": [
    "clf = RandomForestClassifier(n_estimators= 80, oob_score= True, n_jobs = -1, random_state = 200)"
   ]
  },
  {
   "cell_type": "code",
   "execution_count": 131,
   "id": "c94f7205-8717-4891-9a99-32eeed15eec5",
   "metadata": {},
   "outputs": [
    {
     "data": {
      "text/plain": [
       "RandomForestClassifier(n_estimators=80, n_jobs=-1, oob_score=True,\n",
       "                       random_state=200)"
      ]
     },
     "execution_count": 131,
     "metadata": {},
     "output_type": "execute_result"
    }
   ],
   "source": [
    "clf.fit(x_train, y_train)"
   ]
  },
  {
   "cell_type": "code",
   "execution_count": 132,
   "id": "4a55fc73-b423-4771-abff-dad191df1d56",
   "metadata": {},
   "outputs": [
    {
     "data": {
      "text/plain": [
       "0.990082506875573"
      ]
     },
     "execution_count": 132,
     "metadata": {},
     "output_type": "execute_result"
    }
   ],
   "source": [
    "clf.oob_score_"
   ]
  },
  {
   "cell_type": "code",
   "execution_count": 133,
   "id": "4831f54e-1568-4794-97f0-7be5e803e5e7",
   "metadata": {},
   "outputs": [
    {
     "name": "stderr",
     "output_type": "stream",
     "text": [
      "/Users/anshumantewary/opt/anaconda3/lib/python3.8/site-packages/sklearn/ensemble/_forest.py:541: UserWarning: Some inputs do not have OOB scores. This probably means too few trees were used to compute any reliable oob estimates.\n",
      "  warn(\"Some inputs do not have OOB scores. \"\n",
      "/Users/anshumantewary/opt/anaconda3/lib/python3.8/site-packages/sklearn/ensemble/_forest.py:545: RuntimeWarning: invalid value encountered in true_divide\n",
      "  decision = (predictions[k] /\n"
     ]
    },
    {
     "name": "stdout",
     "output_type": "stream",
     "text": [
      "estimators =10\n",
      "oob =0.9830819234936244\n",
      "*******************\n",
      "estimators =30\n",
      "oob =0.9882490207517293\n",
      "*******************\n",
      "estimators =50\n",
      "oob =0.9894991249270773\n",
      "*******************\n",
      "estimators =70\n",
      "oob =0.9899991665972164\n",
      "*******************\n",
      "estimators =90\n",
      "oob =0.9903325277106425\n",
      "*******************\n",
      "estimators =110\n",
      "oob =0.990415867988999\n",
      "*******************\n",
      "estimators =130\n",
      "oob =0.9904992082673556\n",
      "*******************\n",
      "estimators =150\n",
      "oob =0.9905825485457121\n",
      "*******************\n",
      "estimators =170\n",
      "oob =0.9904992082673556\n",
      "*******************\n",
      "estimators =190\n",
      "oob =0.9907492291024252\n",
      "*******************\n",
      "estimators =210\n",
      "oob =0.9904992082673556\n",
      "*******************\n",
      "estimators =230\n",
      "oob =0.9903325277106425\n",
      "*******************\n",
      "estimators =250\n",
      "oob =0.9904992082673556\n",
      "*******************\n",
      "estimators =270\n",
      "oob =0.990415867988999\n",
      "*******************\n",
      "estimators =290\n",
      "oob =0.9904992082673556\n",
      "*******************\n"
     ]
    }
   ],
   "source": [
    "#Lets run a grid search using a simple for loop\n",
    "for w in range(10, 300, 20):\n",
    "    clf = RandomForestClassifier( oob_score = True, n_jobs = -1, n_estimators = w, random_state = 200\n",
    "                       )\n",
    "    clf.fit(x_train, y_train)\n",
    "    oob = clf.oob_score_ \n",
    "    print ('estimators =' + str(w))\n",
    "    print ('oob =' + str(oob))\n",
    "    print(\"*******************\")"
   ]
  },
  {
   "cell_type": "code",
   "execution_count": 134,
   "id": "47fde137-654f-497c-a9b6-0450f4a142b3",
   "metadata": {},
   "outputs": [
    {
     "data": {
      "text/plain": [
       "RandomForestClassifier(n_estimators=190, n_jobs=-1, oob_score=True,\n",
       "                       random_state=200)"
      ]
     },
     "execution_count": 134,
     "metadata": {},
     "output_type": "execute_result"
    }
   ],
   "source": [
    "#190 estimators\n",
    "\n",
    "clf = RandomForestClassifier(n_estimators= 190, oob_score= True, n_jobs = -1, random_state = 200)\n",
    "clf.fit(x_train, y_train)"
   ]
  },
  {
   "cell_type": "code",
   "execution_count": 135,
   "id": "f4024ab7-85f0-4567-b6ca-60020138545f",
   "metadata": {},
   "outputs": [
    {
     "data": {
      "text/plain": [
       "array([0.31319778, 0.12544776, 0.17666488, 0.15325654, 0.18334196,\n",
       "       0.01013575, 0.00174216, 0.00180809, 0.00159403, 0.00150496,\n",
       "       0.00155865, 0.00128232, 0.00140199, 0.00125013, 0.00373889,\n",
       "       0.00297062, 0.00386671, 0.00521193, 0.00646543, 0.00355942])"
      ]
     },
     "execution_count": 135,
     "metadata": {},
     "output_type": "execute_result"
    }
   ],
   "source": [
    "#for random forest, we can directly extract the key contributors\n",
    "\n",
    "clf.feature_importances_"
   ]
  },
  {
   "cell_type": "code",
   "execution_count": 139,
   "id": "2f7b13db-c6e7-4722-b9e2-167fb8a55cf7",
   "metadata": {},
   "outputs": [
    {
     "data": {
      "text/plain": [
       "satisfaction_level       0.313198\n",
       "time_spend_company       0.183342\n",
       "number_project           0.176665\n",
       "average_montly_hours     0.153257\n",
       "last_evaluation          0.125448\n",
       "Work_accident            0.010136\n",
       "salary_low               0.006465\n",
       "salary_high              0.005212\n",
       "dept_technical           0.003867\n",
       "dept_sales               0.003739\n",
       "salary_medium            0.003559\n",
       "dept_support             0.002971\n",
       "dept_IT                  0.001808\n",
       "promotion_last_5years    0.001742\n",
       "dept_RandD               0.001594\n",
       "dept_hr                  0.001559\n",
       "dept_accounting          0.001505\n",
       "dept_marketing           0.001402\n",
       "dept_management          0.001282\n",
       "dept_product_mng         0.001250\n",
       "dtype: float64"
      ]
     },
     "execution_count": 139,
     "metadata": {},
     "output_type": "execute_result"
    }
   ],
   "source": [
    "features = pd.Series(clf.feature_importances_, index = X.columns)\n",
    "features.sort_values(ascending = False)"
   ]
  },
  {
   "cell_type": "code",
   "execution_count": 145,
   "id": "1feb2a06-6f1c-424d-be58-a00d6cfbce3f",
   "metadata": {},
   "outputs": [
    {
     "data": {
      "image/png": "[encoded data removed]",
      "text/plain": [
       "<Figure size 720x576 with 1 Axes>"
      ]
     },
     "metadata": {},
     "output_type": "display_data"
    }
   ],
   "source": [
    "plt.figure(figsize = (10,8))\n",
    "features.sort_values(ascending = False).plot(kind = 'barh')\n",
    "plt.title(\"Contribution of various features towards an employee's tenure in an organization\")\n",
    "plt.xlabel(\"Overall score X 100%\")\n",
    "plt.ylabel(\"Features\")\n",
    "plt.show()"
   ]
  },
  {
   "cell_type": "code",
   "execution_count": 146,
   "id": "8875a2d8-e566-4fce-b5f9-608e9e5e8abc",
   "metadata": {},
   "outputs": [],
   "source": [
    "#Now, we want to create a boosted tree ensemble in python"
   ]
  },
  {
   "cell_type": "markdown",
   "id": "52c1534b-243b-449e-8e07-7d8dc7580164",
   "metadata": {},
   "source": [
    "## Gradient Boost"
   ]
  },
  {
   "cell_type": "code",
   "execution_count": 149,
   "id": "8b768969-9af1-49d0-8384-be58537bd929",
   "metadata": {},
   "outputs": [
    {
     "data": {
      "text/plain": [
       "GradientBoostingClassifier(n_estimators=80, random_state=400)"
      ]
     },
     "execution_count": 149,
     "metadata": {},
     "output_type": "execute_result"
    }
   ],
   "source": [
    "from sklearn.ensemble import GradientBoostingClassifier\n",
    "clf = GradientBoostingClassifier(n_estimators=80, random_state=400)\n",
    "clf.fit(x_train, y_train)"
   ]
  },
  {
   "cell_type": "code",
   "execution_count": 150,
   "id": "bedc3cc7-a156-4218-938b-8a3a840c9f93",
   "metadata": {},
   "outputs": [
    {
     "data": {
      "text/plain": [
       "0.974"
      ]
     },
     "execution_count": 150,
     "metadata": {},
     "output_type": "execute_result"
    }
   ],
   "source": [
    "clf.score(x_test, y_test)"
   ]
  },
  {
   "cell_type": "code",
   "execution_count": 151,
   "id": "65a0d967-7ca9-433d-a343-5e14b1db9e13",
   "metadata": {},
   "outputs": [],
   "source": [
    "#Lets tune the hyperparameters using GridSearchCV, since there are no out of bag (OOB) errors and no bootstrapping\n",
    "\n",
    "from sklearn.model_selection import GridSearchCV"
   ]
  },
  {
   "cell_type": "code",
   "execution_count": 157,
   "id": "c5330843-0b7c-4efb-b221-b80e63d62c12",
   "metadata": {},
   "outputs": [
    {
     "data": {
      "text/plain": [
       "GridSearchCV(cv=5,\n",
       "             estimator=GradientBoostingClassifier(n_estimators=80,\n",
       "                                                  random_state=400),\n",
       "             param_grid={'n_estimators': [60, 80, 100, 120, 140, 160, 180,\n",
       "                                          200]})"
      ]
     },
     "execution_count": 157,
     "metadata": {},
     "output_type": "execute_result"
    }
   ],
   "source": [
    "mod = GridSearchCV(clf, param_grid={ 'n_estimators': list(range(60,220,20))     }, cv= 5)\n",
    "mod.fit(x_train, y_train)"
   ]
  },
  {
   "cell_type": "code",
   "execution_count": 159,
   "id": "2358affe-5e39-4cc0-833a-9914a9ecf2ac",
   "metadata": {},
   "outputs": [
    {
     "data": {
      "text/plain": [
       "GradientBoostingClassifier(n_estimators=140, random_state=400)"
      ]
     },
     "execution_count": 159,
     "metadata": {},
     "output_type": "execute_result"
    }
   ],
   "source": [
    "mod.best_estimator_"
   ]
  },
  {
   "cell_type": "code",
   "execution_count": 161,
   "id": "a040eee5-e33c-4b5b-bf75-0dadfe32ff10",
   "metadata": {},
   "outputs": [
    {
     "data": {
      "text/plain": [
       "GradientBoostingClassifier(n_estimators=140, random_state=400)"
      ]
     },
     "execution_count": 161,
     "metadata": {},
     "output_type": "execute_result"
    }
   ],
   "source": [
    "#So the best estimator is 140\n",
    "\n",
    "clf = clf = GradientBoostingClassifier(n_estimators=140, random_state=400)\n",
    "clf.fit(x_train, y_train)"
   ]
  },
  {
   "cell_type": "code",
   "execution_count": 162,
   "id": "61d58f2f-63c2-46f8-8949-d5c4b65595e3",
   "metadata": {},
   "outputs": [
    {
     "data": {
      "text/plain": [
       "0.9746666666666667"
      ]
     },
     "execution_count": 162,
     "metadata": {},
     "output_type": "execute_result"
    }
   ],
   "source": [
    "clf.score(x_test, y_test)"
   ]
  },
  {
   "cell_type": "code",
   "execution_count": 163,
   "id": "ac23d73b-e6ef-4b2e-a327-e367b92f5d07",
   "metadata": {},
   "outputs": [
    {
     "data": {
      "text/plain": [
       "array([5.38849736e-01, 9.42453685e-02, 1.13371098e-01, 7.43040184e-02,\n",
       "       1.75356580e-01, 1.60212959e-03, 1.02067719e-05, 1.23082375e-04,\n",
       "       1.06325958e-04, 9.84817811e-06, 0.00000000e+00, 0.00000000e+00,\n",
       "       0.00000000e+00, 1.57663479e-04, 9.30365548e-05, 6.61448826e-05,\n",
       "       2.85598664e-04, 2.61493737e-04, 1.15116563e-03, 6.50339107e-06])"
      ]
     },
     "execution_count": 163,
     "metadata": {},
     "output_type": "execute_result"
    }
   ],
   "source": [
    "clf.feature_importances_"
   ]
  },
  {
   "cell_type": "code",
   "execution_count": 169,
   "id": "b440c3ab-c2a3-4826-a69d-1181e4f78507",
   "metadata": {},
   "outputs": [
    {
     "data": {
      "text/plain": [
       "satisfaction_level       0.538850\n",
       "time_spend_company       0.175357\n",
       "number_project           0.113371\n",
       "last_evaluation          0.094245\n",
       "average_montly_hours     0.074304\n",
       "Work_accident            0.001602\n",
       "salary_low               0.001151\n",
       "dept_technical           0.000286\n",
       "salary_high              0.000261\n",
       "dept_product_mng         0.000158\n",
       "dept_IT                  0.000123\n",
       "dept_RandD               0.000106\n",
       "dept_sales               0.000093\n",
       "dept_support             0.000066\n",
       "promotion_last_5years    0.000010\n",
       "dept_accounting          0.000010\n",
       "salary_medium            0.000007\n",
       "dept_marketing           0.000000\n",
       "dept_management          0.000000\n",
       "dept_hr                  0.000000\n",
       "dtype: float64"
      ]
     },
     "execution_count": 169,
     "metadata": {},
     "output_type": "execute_result"
    }
   ],
   "source": [
    "feature_boost = pd.Series(clf.feature_importances_, index = X.columns)\n",
    "feature_boost.sort_values(ascending = False)"
   ]
  },
  {
   "cell_type": "code",
   "execution_count": 175,
   "id": "a23f9ca1-b1e9-46bf-b725-ba1ef6c4a0e8",
   "metadata": {},
   "outputs": [
    {
     "data": {
      "image/png": "[encoded data removed]",
      "text/plain": [
       "<Figure size 720x576 with 1 Axes>"
      ]
     },
     "metadata": {},
     "output_type": "display_data"
    }
   ],
   "source": [
    "plt.figure(figsize = (10,8))\n",
    "feature_boost.sort_values(ascending = False).plot(kind = 'barh', color = \"Orange\")\n",
    "plt.title(\"Contribution of various features towards an employee's tenure in an organization\")\n",
    "plt.xlabel(\"Overall score X 100%\")\n",
    "plt.ylabel(\"Features\")\n",
    "plt.show()"
   ]
  },
  {
   "cell_type": "code",
   "execution_count": 194,
   "id": "d339718c-8c6e-4308-a877-b2d7b302f287",
   "metadata": {},
   "outputs": [],
   "source": [
    "#Lets create a partial dependence plot to understand the direction of this predictor variable"
   ]
  },
  {
   "cell_type": "code",
   "execution_count": 196,
   "id": "d46512d1-d3f7-42ba-90f7-e90e5eeee59d",
   "metadata": {},
   "outputs": [
    {
     "ename": "TypeError",
     "evalue": "cannot unpack non-iterable PartialDependenceDisplay object",
     "output_type": "error",
     "traceback": [
      "\u001b[0;31m---------------------------------------------------------------------------\u001b[0m",
      "\u001b[0;31mTypeError\u001b[0m                                 Traceback (most recent call last)",
      "\u001b[0;32m<ipython-input-196-e1a9545bc2e7>\u001b[0m in \u001b[0;36m<module>\u001b[0;34m\u001b[0m\n\u001b[1;32m      1\u001b[0m \u001b[0;32mfrom\u001b[0m \u001b[0msklearn\u001b[0m\u001b[0;34m.\u001b[0m\u001b[0minspection\u001b[0m \u001b[0;32mimport\u001b[0m \u001b[0mplot_partial_dependence\u001b[0m\u001b[0;34m\u001b[0m\u001b[0;34m\u001b[0m\u001b[0m\n\u001b[0;32m----> 2\u001b[0;31m \u001b[0mfig\u001b[0m\u001b[0;34m,\u001b[0m \u001b[0maxs\u001b[0m \u001b[0;34m=\u001b[0m \u001b[0mplot_partial_dependence\u001b[0m\u001b[0;34m(\u001b[0m\u001b[0mclf\u001b[0m\u001b[0;34m,\u001b[0m \u001b[0mX\u001b[0m\u001b[0;34m,\u001b[0m \u001b[0;34m[\u001b[0m\u001b[0;36m0\u001b[0m\u001b[0;34m]\u001b[0m\u001b[0;34m,\u001b[0m \u001b[0mfeature_names\u001b[0m\u001b[0;34m=\u001b[0m \u001b[0mX\u001b[0m\u001b[0;34m.\u001b[0m\u001b[0mcolumns\u001b[0m\u001b[0;34m.\u001b[0m\u001b[0mtolist\u001b[0m\u001b[0;34m(\u001b[0m\u001b[0;34m)\u001b[0m\u001b[0;34m)\u001b[0m\u001b[0;34m\u001b[0m\u001b[0;34m\u001b[0m\u001b[0m\n\u001b[0m",
      "\u001b[0;31mTypeError\u001b[0m: cannot unpack non-iterable PartialDependenceDisplay object"
     ]
    },
    {
     "data": {
      "image/png": "[encoded data removed]",
      "text/plain": [
       "<Figure size 432x288 with 2 Axes>"
      ]
     },
     "metadata": {},
     "output_type": "display_data"
    }
   ],
   "source": [
    "from sklearn.inspection import plot_partial_dependence\n",
    "fig, axs = plot_partial_dependence(clf, X, [0], feature_names= X.columns.tolist())\n",
    "#Less people will go out of my org as their satisfaction level increases"
   ]
  },
  {
   "cell_type": "code",
   "execution_count": 197,
   "id": "1d700d3b-7ae8-4e5c-a336-43582017a73b",
   "metadata": {},
   "outputs": [
    {
     "ename": "TypeError",
     "evalue": "cannot unpack non-iterable PartialDependenceDisplay object",
     "output_type": "error",
     "traceback": [
      "\u001b[0;31m---------------------------------------------------------------------------\u001b[0m",
      "\u001b[0;31mTypeError\u001b[0m                                 Traceback (most recent call last)",
      "\u001b[0;32m<ipython-input-197-b5da754e7c4b>\u001b[0m in \u001b[0;36m<module>\u001b[0;34m\u001b[0m\n\u001b[0;32m----> 1\u001b[0;31m \u001b[0mfig\u001b[0m\u001b[0;34m,\u001b[0m \u001b[0maxs\u001b[0m \u001b[0;34m=\u001b[0m \u001b[0mplot_partial_dependence\u001b[0m\u001b[0;34m(\u001b[0m\u001b[0mclf\u001b[0m\u001b[0;34m,\u001b[0m \u001b[0mX\u001b[0m\u001b[0;34m,\u001b[0m \u001b[0;34m[\u001b[0m\u001b[0;36m1\u001b[0m\u001b[0;34m]\u001b[0m\u001b[0;34m,\u001b[0m \u001b[0mfeature_names\u001b[0m\u001b[0;34m=\u001b[0m \u001b[0mX\u001b[0m\u001b[0;34m.\u001b[0m\u001b[0mcolumns\u001b[0m\u001b[0;34m.\u001b[0m\u001b[0mtolist\u001b[0m\u001b[0;34m(\u001b[0m\u001b[0;34m)\u001b[0m\u001b[0;34m)\u001b[0m\u001b[0;34m\u001b[0m\u001b[0;34m\u001b[0m\u001b[0m\n\u001b[0m",
      "\u001b[0;31mTypeError\u001b[0m: cannot unpack non-iterable PartialDependenceDisplay object"
     ]
    },
    {
     "data": {
      "image/png": "[encoded data removed]",
      "text/plain": [
       "<Figure size 432x288 with 2 Axes>"
      ]
     },
     "metadata": {},
     "output_type": "display_data"
    }
   ],
   "source": [
    "fig, axs = plot_partial_dependence(clf, X, [1], feature_names= X.columns.tolist())\n",
    "\n",
    "#More people will move out of my org as their last evaluation time increases"
   ]
  },
  {
   "cell_type": "code",
   "execution_count": null,
   "id": "1a3e9c73-13a8-4686-980e-09d1cd163be8",
   "metadata": {},
   "outputs": [],
   "source": []
  }
 ],
 "metadata": {
  "kernelspec": {
   "display_name": "Python 3",
   "language": "python",
   "name": "python3"
  },
  "language_info": {
   "codemirror_mode": {
    "name": "ipython",
    "version": 3
   },
   "file_extension": ".py",
   "mimetype": "text/x-python",
   "name": "python",
   "nbconvert_exporter": "python",
   "pygments_lexer": "ipython3",
   "version": "3.8.8"
  }
 },
 "nbformat": 4,
 "nbformat_minor": 5
}
